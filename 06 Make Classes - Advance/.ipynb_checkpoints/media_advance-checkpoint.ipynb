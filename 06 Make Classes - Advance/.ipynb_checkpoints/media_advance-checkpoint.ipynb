{
 "cells": [
  {
   "cell_type": "markdown",
   "metadata": {},
   "source": [
    "# The python class - Advance topic\n",
    "## 1. Create an instance variable class"
   ]
  },
  {
   "cell_type": "code",
   "execution_count": null,
   "metadata": {
    "collapsed": true
   },
   "outputs": [],
   "source": [
    "import webbrowser\n",
    "\n",
    "class Movie():\n",
    "    # Create an instance variable to share\n",
    "    VALID_RATING = [\"G\", \"PG\", \"PG-13\", \"R\"]\n",
    "    \n",
    "    # Create init instance when it is created\n",
    "    def __init__(self, movie_title, movie_storyline, movie_poster, movie_trailer):\n",
    "        self.title = movie_title\n",
    "        self.storyline = movie_storyline\n",
    "        self.poster_image_url = movie_poster\n",
    "        self.trailer_youtube_url = movie_trailer\n",
    "        \n",
    "    # Create instance method\n",
    "    def show_trailer(self):\n",
    "        webbrowser.open(self.trailer_youtube_url)"
   ]
  },
  {
   "cell_type": "markdown",
   "metadata": {},
   "source": [
    "## 2. Create information for class\n",
    "By adding the comment at the beginning of the class. This way will enable the attribute __doc__ to read class information."
   ]
  },
  {
   "cell_type": "code",
   "execution_count": 1,
   "metadata": {
    "collapsed": true
   },
   "outputs": [],
   "source": [
    "import webbrowser\n",
    "\n",
    "class Movie():\n",
    "    \"\"\" Create a doc for Movie Class\"\"\"\n",
    "    \n",
    "    # Create an instance variable to share\n",
    "    VALID_RATING = [\"G\", \"PG\", \"PG-13\", \"R\"]       \n",
    "        \n",
    "    # Create init instance when it is created\n",
    "    def __init__(self, movie_title, movie_storyline, movie_poster, movie_trailer):\n",
    "        self.title = movie_title\n",
    "        self.storyline = movie_storyline\n",
    "        self.poster_image_url = movie_poster\n",
    "        self.trailer_youtube_url = movie_trailer\n",
    "        \n",
    "    # Create instance method\n",
    "    def show_trailer(self):\n",
    "        webbrowser.open(self.trailer_youtube_url)"
   ]
  }
 ],
 "metadata": {
  "anaconda-cloud": {},
  "kernelspec": {
   "display_name": "Python [conda root]",
   "language": "python",
   "name": "conda-root-py"
  },
  "language_info": {
   "codemirror_mode": {
    "name": "ipython",
    "version": 2
   },
   "file_extension": ".py",
   "mimetype": "text/x-python",
   "name": "python",
   "nbconvert_exporter": "python",
   "pygments_lexer": "ipython2",
   "version": "2.7.12"
  }
 },
 "nbformat": 4,
 "nbformat_minor": 1
}
