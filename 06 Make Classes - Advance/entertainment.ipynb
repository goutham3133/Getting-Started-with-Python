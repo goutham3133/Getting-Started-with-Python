{
 "cells": [
  {
   "cell_type": "markdown",
   "metadata": {},
   "source": [
    "# Advance topic on class\n",
    "## 1. Class instance variable\n",
    "We create several instances for different movies. We will read the information of the Movie class and the class instance variable."
   ]
  },
  {
   "cell_type": "code",
   "execution_count": 6,
   "metadata": {
    "collapsed": false
   },
   "outputs": [
    {
     "name": "stdout",
     "output_type": "stream",
     "text": [
      "The class instance variable is: ['G', 'PG', 'PG-13', 'R']\n",
      "Class information:  Create a doc for Movie Class\n"
     ]
    }
   ],
   "source": [
    "import media\n",
    "\n",
    "toyStory = media.Movie(\"Toy Story\",\n",
    "                       \"A story about the toy become to the life\",\n",
    "                       \"https://upload.wikimedia.org/wikipedia/en/1/13/Toy_Story.jpg\",\n",
    "                       \"https://www.youtube.com/watch?v=KYz2wyBy3kc\")\n",
    "\n",
    "spiderMan = media.Movie(\"Spider Man - 3\",\n",
    "                       \"Spiderman vs Venom\",\n",
    "                       \"https://upload.wikimedia.org/wikipedia/en/7/7a/Spider-Man_3,_International_Poster.jpg\",\n",
    "                       \"https://www.youtube.com/watch?v=69maMn3xb4U\")\n",
    "\n",
    "fastFurious = media.Movie(\"Fast and Furious - 7\",\n",
    "                          \"New chapter of fast and furious\",\n",
    "                          \"http://cdn.collider.com/wp-content/uploads/fast-and-furious-7-poster.jpg\",\n",
    "                          \"https://www.youtube.com/watch?v=Skpu5HaVkOc\")\n",
    "\n",
    "# Create a movie list\n",
    "movieList = [toyStory, spiderMan, fastFurious]\n",
    "\n",
    "# Print the class instance variable\n",
    "print \"The class instance variable is:\", media.Movie.VALID_RATING\n",
    "\n",
    "# Print document of this class\n",
    "print \"Class information:\", media.Movie.__doc__"
   ]
  },
  {
   "cell_type": "markdown",
   "metadata": {},
   "source": [
    "## 2. Inheritance of class. \n",
    "In the below is the example on inheritance on class. The example will create 2 class are Parent class and Child class.\n",
    "\n",
    "The Child class will inheritnace all attributes of the Parent class"
   ]
  },
  {
   "cell_type": "code",
   "execution_count": 9,
   "metadata": {
    "collapsed": false
   },
   "outputs": [
    {
     "name": "stdout",
     "output_type": "stream",
     "text": [
      "Creat instance Parent class for Billy Cyrus\n",
      "Parent init is created\n",
      "Creat instance Chilf class for Melly Cyrus\n",
      "Child init is created\n",
      "Parent init is created\n",
      "Information of Billy Cyrus - Parent Class\n",
      "Last name is Billy\n",
      "Eye color is black\n",
      "Information of Melly Cyrus - Child Class\n",
      "Last name is Milley\n",
      "Number of toys is 10\n"
     ]
    }
   ],
   "source": [
    "class Parent():\n",
    "    def __init__(self, LastName, myEyeColor):\n",
    "        print \"Parent init is created\"\n",
    "        self.last_name = LastName\n",
    "        self.eye_color = myEyeColor\n",
    "        \n",
    "class Child(Parent):\n",
    "    def __init__(self, LastName, myEyeColor, numToys):\n",
    "        print \"Child init is created\"\n",
    "        Parent.__init__(self, LastName, myEyeColor)\n",
    "        self.numberofToys = numToys\n",
    "\n",
    "print \"Creat instance Parent class for Billy Cyrus\"\n",
    "Billy_Cyrus = Parent(\"Billy\", \"black\")\n",
    "print \"Creat instance Chilf class for Melly Cyrus\"\n",
    "Milley_Cyrus = Child(\"Milley\", \"blue\", 10)\n",
    "print \"Information of Billy Cyrus - Parent Class\"\n",
    "print \"Last name is\", Billy_Cyrus.last_name\n",
    "print \"Eye color is\", Billy_Cyrus.eye_color\n",
    "print \"Information of Melly Cyrus - Child Class\"\n",
    "print \"Last name is\", Milley_Cyrus.last_name\n",
    "print \"Number of toys is\", Milley_Cyrus.numberofToys "
   ]
  },
  {
   "cell_type": "markdown",
   "metadata": {},
   "source": [
    "## 3. Reuse method\n",
    "Because class inheritance, the reuse method is possible. \n",
    "\n",
    "By reuse the method of Parent class therefore Child class does not to define the method."
   ]
  },
  {
   "cell_type": "code",
   "execution_count": 11,
   "metadata": {
    "collapsed": false
   },
   "outputs": [
    {
     "name": "stdout",
     "output_type": "stream",
     "text": [
      "Information of Parent\n",
      "Billy\n",
      "black\n",
      "Information of Child\n",
      "Milley\n",
      "blue\n"
     ]
    }
   ],
   "source": [
    "class Parent():\n",
    "    def __init__(self, userLastName, userEyeColor):\n",
    "        self.lastName = userLastName\n",
    "        self.eyeColor = userEyeColor\n",
    "    def show_info(self):\n",
    "        print self.lastName\n",
    "        print self.eyeColor\n",
    "        \n",
    "class Child(Parent):\n",
    "    def __init__(self, userLastName, userEyeColor, UserNumToys):\n",
    "        Parent.__init__(self, userLastName, userEyeColor)\n",
    "        self.numOfToys = UserNumToys\n",
    "        \n",
    "Billy_Cyrus = Parent(\"Billy\", \"black\")\n",
    "Milley_Cyrus = Child(\"Milley\", \"blue\", 9)\n",
    "print \"Information of Parent\"\n",
    "Billy_Cyrus.show_info()\n",
    "print \"Information of Child\"\n",
    "Milley_Cyrus.show_info()"
   ]
  },
  {
   "cell_type": "markdown",
   "metadata": {},
   "source": [
    "## 4. Method Overriding\n",
    "The example shows the overiding method between Parent and Child class is possible."
   ]
  },
  {
   "cell_type": "code",
   "execution_count": 13,
   "metadata": {
    "collapsed": false
   },
   "outputs": [
    {
     "name": "stdout",
     "output_type": "stream",
     "text": [
      "Information of Parent\n",
      "Billy\n",
      "black\n",
      "Information of Child\n",
      "Milley\n",
      "blue\n",
      "9\n"
     ]
    }
   ],
   "source": [
    "class Parent():\n",
    "    def __init__(self, userLastName, userEyeColor):\n",
    "        self.lastName = userLastName\n",
    "        self.eyeColor = userEyeColor\n",
    "    def show_info(self):\n",
    "        print self.lastName\n",
    "        print self.eyeColor\n",
    "        \n",
    "        \n",
    "class Child(Parent):\n",
    "    def __init__(self, userLastName, userEyeColor, UserNumToys):\n",
    "        Parent.__init__(self, userLastName, userEyeColor)\n",
    "        self.numOfToys = UserNumToys\n",
    "    def show_info(self):\n",
    "        print self.lastName\n",
    "        print self.eyeColor\n",
    "        print self.numOfToys\n",
    "        \n",
    "Billy_Cyrus = Parent(\"Billy\", \"black\")\n",
    "Milley_Cyrus = Child(\"Milley\", \"blue\", 9)\n",
    "\n",
    "print \"Information of Parent\"\n",
    "Billy_Cyrus.show_info()\n",
    "print \"Information of Child\"\n",
    "Milley_Cyrus.show_info()"
   ]
  }
 ],
 "metadata": {
  "anaconda-cloud": {},
  "kernelspec": {
   "display_name": "Python [conda root]",
   "language": "python",
   "name": "conda-root-py"
  },
  "language_info": {
   "codemirror_mode": {
    "name": "ipython",
    "version": 2
   },
   "file_extension": ".py",
   "mimetype": "text/x-python",
   "name": "python",
   "nbconvert_exporter": "python",
   "pygments_lexer": "ipython2",
   "version": "2.7.12"
  }
 },
 "nbformat": 4,
 "nbformat_minor": 1
}
