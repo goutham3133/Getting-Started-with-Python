{
 "cells": [
  {
   "cell_type": "markdown",
   "metadata": {},
   "source": [
    "# Project 1\n",
    "Another example using class let you will have familiar working with class in python. \n",
    "\n",
    "In this project we will send text message to your mobile phone.\n",
    "\n",
    "You have to install external python package for sending test message which is [**twilio**](https://www.twilio.com/).\n",
    "\n",
    "For user is using [**Anaconda**](https://anaconda.org), the twilio can be install in the command console with"
   ]
  },
  {
   "cell_type": "code",
   "execution_count": null,
   "metadata": {
    "collapsed": true
   },
   "outputs": [],
   "source": [
    "conda install -c jonrowland twilio=3.6.5"
   ]
  },
  {
   "cell_type": "markdown",
   "metadata": {},
   "source": [
    "If the install success, we can check the twilio version in python console"
   ]
  },
  {
   "cell_type": "code",
   "execution_count": 5,
   "metadata": {
    "collapsed": false
   },
   "outputs": [
    {
     "name": "stdout",
     "output_type": "stream",
     "text": [
      "twilio version 3.6.5\n"
     ]
    }
   ],
   "source": [
    "import twilio\n",
    "print'twilio version', twilio.__version__"
   ]
  },
  {
   "cell_type": "markdown",
   "metadata": {},
   "source": [
    "Let start coding the project from the [exmaple](https://www.twilio.com/docs/libraries/python) !!!"
   ]
  },
  {
   "cell_type": "code",
   "execution_count": null,
   "metadata": {
    "collapsed": true
   },
   "outputs": [],
   "source": [
    "from twilio.rest import TwilioRestClient\n",
    "\n",
    "account_sid = \"{{ account_sid }}\" # Your Account SID from www.twilio.com/console\n",
    "auth_token  = \"{{ auth_token }}\"  # Your Auth Token from www.twilio.com/console\n",
    "\n",
    "client = TwilioRestClient(account_sid, auth_token)\n",
    "\n",
    "message = client.messages.create(body=\"Hello from Python\",\n",
    "    to=\"+12345678901\",    # Replace with your phone number\n",
    "    from_=\"+12345678901\") # Replace with your Twilio number\n",
    "\n",
    "print(message.sid)"
   ]
  },
  {
   "cell_type": "markdown",
   "metadata": {},
   "source": [
    "But the user have to register in [twilio](https://www.twilio.com/console) to get account_sid and auth_token. \n",
    "\n",
    "After that user can copy and paste the account_sid, auth_token and Twilio number to the source code.\n",
    "\n",
    "Have fun to spam the SMS to any one! :)\n"
   ]
  }
 ],
 "metadata": {
  "kernelspec": {
   "display_name": "Python [conda root]",
   "language": "python",
   "name": "conda-root-py"
  },
  "language_info": {
   "codemirror_mode": {
    "name": "ipython",
    "version": 2
   },
   "file_extension": ".py",
   "mimetype": "text/x-python",
   "name": "python",
   "nbconvert_exporter": "python",
   "pygments_lexer": "ipython2",
   "version": "2.7.12"
  }
 },
 "nbformat": 4,
 "nbformat_minor": 1
}
