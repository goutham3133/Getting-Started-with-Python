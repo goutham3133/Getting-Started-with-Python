{
 "cells": [
  {
   "cell_type": "markdown",
   "metadata": {},
   "source": [
    "# Project 1\n",
    "In this project, we learn how to use class in python.\n",
    "We will create an instance of class then using their method. \n",
    "\n",
    "Project will create an instance of a turtle class then draw the flower of square by let the turtle moving\n"
   ]
  },
  {
   "cell_type": "code",
   "execution_count": 2,
   "metadata": {
    "collapsed": false
   },
   "outputs": [],
   "source": [
    "import turtle\n",
    "\n",
    "# Creat function with turtle for drawing the square\n",
    "def draw_square(theTurtle):   \n",
    "    for i in range(1,5):\n",
    "        theTurtle.forward(100)\n",
    "        theTurtle.right(90)\n",
    "    \n",
    "# Create an background color window\n",
    "myScreen = turtle.Screen()\n",
    "myScreen.bgcolor(\"red\")\n",
    "\n",
    "# Create an turtle\n",
    "myTurtle = turtle.Turtle()\n",
    "myTurtle.color(\"blue\")\n",
    "myTurtle.shape(\"turtle\")\n",
    "myTurtle.speed(1)\n",
    "\n",
    "# Drawing flower of the square\n",
    "for i in range(1,37):\n",
    "    draw_square(myTurtle)\n",
    "    myTurtle.right(10)\n",
    "\n",
    "# Exit\n",
    "myScreen.exitonclick()"
   ]
  }
 ],
 "metadata": {
  "anaconda-cloud": {},
  "kernelspec": {
   "display_name": "Python [conda root]",
   "language": "python",
   "name": "conda-root-py"
  },
  "language_info": {
   "codemirror_mode": {
    "name": "ipython",
    "version": 2
   },
   "file_extension": ".py",
   "mimetype": "text/x-python",
   "name": "python",
   "nbconvert_exporter": "python",
   "pygments_lexer": "ipython2",
   "version": "2.7.12"
  }
 },
 "nbformat": 4,
 "nbformat_minor": 1
}
