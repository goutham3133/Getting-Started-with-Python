{
 "cells": [
  {
   "cell_type": "markdown",
   "metadata": {},
   "source": [
    "# Project\n",
    "We are going to write the program to chek the profanity of input document.\n",
    "\n",
    "For checking the curse word, we will access to [this services](http://www.wdylike.appspot.com). For more information this service can be found [here](https://en.wikipedia.org/wiki/WDYL_(search_engine)\n",
    "\n",
    "The text file is provided in the same folder without profanity. You can modify some word to verify (shot -> shit)"
   ]
  },
  {
   "cell_type": "code",
   "execution_count": 18,
   "metadata": {
    "collapsed": false
   },
   "outputs": [
    {
     "name": "stdout",
     "output_type": "stream",
     "text": [
      "-- Houston, we have a problem. (Apollo 13)\n",
      "\n",
      "-- Mama always said, life is like a box of chocolates. You never know what you are going to get. (Forrest Gump)\n",
      "\n",
      "-- You cant handle the truth. (A Few Good Men)\n",
      "\n",
      "-- I believe everything and I believe nothing. (A shot in the Dark)\n",
      "Document is no curse word\n"
     ]
    }
   ],
   "source": [
    "import urllib\n",
    "\n",
    "def read_text():\n",
    "    # Open the file\n",
    "    quotes = open(\"./movie_quotes.txt\")    \n",
    "    # Read the content of the text file\n",
    "    content_files = quotes.read()\n",
    "    print content_files    \n",
    "    # Check the profanity of the content file\n",
    "    check_profanity(content_files)    \n",
    "    # Close the file\n",
    "    quotes.close()\n",
    "    \n",
    "def check_profanity(text_to_check):\n",
    "    # Create connection to wdyl website\n",
    "    connection = urllib.urlopen(\"http://www.wdylike.appspot.com/?q=\"+text_to_check)    \n",
    "    # Read the respone of the connection\n",
    "    output = connection.read()    \n",
    "    # Close the connection\n",
    "    connection.close()\n",
    "    \n",
    "    # Check the result\n",
    "    if 'true' in output:\n",
    "        print \"Profanity is detected !!!\"\n",
    "    elif 'false' in output:\n",
    "        print \"Document is no curse word\"\n",
    "    else:\n",
    "        print \"Can not scan the document\"\n",
    "        \n",
    "read_text()"
   ]
  }
 ],
 "metadata": {
  "anaconda-cloud": {},
  "kernelspec": {
   "display_name": "Python [conda root]",
   "language": "python",
   "name": "conda-root-py"
  },
  "language_info": {
   "codemirror_mode": {
    "name": "ipython",
    "version": 2
   },
   "file_extension": ".py",
   "mimetype": "text/x-python",
   "name": "python",
   "nbconvert_exporter": "python",
   "pygments_lexer": "ipython2",
   "version": "2.7.12"
  }
 },
 "nbformat": 4,
 "nbformat_minor": 1
}
