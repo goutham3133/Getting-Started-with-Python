{
 "cells": [
  {
   "cell_type": "markdown",
   "metadata": {},
   "source": [
    "# Entertainment project\n",
    "We wil create several Movie instance for different movies by using the class have just create in media python file."
   ]
  },
  {
   "cell_type": "code",
   "execution_count": 3,
   "metadata": {
    "collapsed": false
   },
   "outputs": [],
   "source": [
    "import media\n",
    "import fresh_tomatoes\n",
    "\n",
    "toyStory = media.Movie(\"Toy Story\",\n",
    "                       \"A story about the toy become to the life\",\n",
    "                       \"https://upload.wikimedia.org/wikipedia/en/1/13/Toy_Story.jpg\",\n",
    "                       \"https://www.youtube.com/watch?v=KYz2wyBy3kc\")\n",
    "\n",
    "spiderMan = media.Movie(\"Spider Man - 3\",\n",
    "                       \"Spiderman vs Venom\",\n",
    "                       \"https://upload.wikimedia.org/wikipedia/en/7/7a/Spider-Man_3,_International_Poster.jpg\",\n",
    "                       \"https://www.youtube.com/watch?v=69maMn3xb4U\")\n",
    "\n",
    "fastFurious = media.Movie(\"Fast and Furious - 7\",\n",
    "                          \"New chapter of fast and furious\",\n",
    "                          \"http://cdn.collider.com/wp-content/uploads/fast-and-furious-7-poster.jpg\",\n",
    "                          \"https://www.youtube.com/watch?v=Skpu5HaVkOc\")\n",
    "\n",
    "# Create a movie list\n",
    "movieList = [toyStory, spiderMan, fastFurious]\n",
    "\n",
    "# Create web for movie in the list\n",
    "fresh_tomatoes.open_movies_page(movieList)"
   ]
  }
 ],
 "metadata": {
  "anaconda-cloud": {},
  "kernelspec": {
   "display_name": "Python [conda root]",
   "language": "python",
   "name": "conda-root-py"
  },
  "language_info": {
   "codemirror_mode": {
    "name": "ipython",
    "version": 2
   },
   "file_extension": ".py",
   "mimetype": "text/x-python",
   "name": "python",
   "nbconvert_exporter": "python",
   "pygments_lexer": "ipython2",
   "version": "2.7.12"
  }
 },
 "nbformat": 4,
 "nbformat_minor": 1
}
