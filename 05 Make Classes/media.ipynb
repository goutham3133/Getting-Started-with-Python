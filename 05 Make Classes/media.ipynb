{
 "cells": [
  {
   "cell_type": "markdown",
   "metadata": {},
   "source": [
    "# Create Class\n",
    "In this project, we will create a Moive class in python which has title, story line, poster image in url and trailer url in youtube. Then it will be imported and used in another file."
   ]
  },
  {
   "cell_type": "code",
   "execution_count": null,
   "metadata": {
    "collapsed": true
   },
   "outputs": [],
   "source": [
    "import webbrowser\n",
    "\n",
    "class Movie():\n",
    "    # Constructor\n",
    "    def __init__ (self, movie_title, movie_storyline, movie_poster, movie_trailer):\n",
    "        self.title = movie_title\n",
    "        self.storyline = movie_storyline\n",
    "        self.poster_image_url = movie_poster\n",
    "        self.trailer_youtube_url = movie_trailer\n",
    "    # Method instance\n",
    "    def show_trailer(self):\n",
    "        webbrowser.open(self.trailer)"
   ]
  }
 ],
 "metadata": {
  "anaconda-cloud": {},
  "kernelspec": {
   "display_name": "Python [conda root]",
   "language": "python",
   "name": "conda-root-py"
  },
  "language_info": {
   "codemirror_mode": {
    "name": "ipython",
    "version": 2
   },
   "file_extension": ".py",
   "mimetype": "text/x-python",
   "name": "python",
   "nbconvert_exporter": "python",
   "pygments_lexer": "ipython2",
   "version": "2.7.12"
  }
 },
 "nbformat": 4,
 "nbformat_minor": 1
}
